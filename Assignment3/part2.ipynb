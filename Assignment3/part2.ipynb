{
 "cells": [
  {
   "cell_type": "code",
   "execution_count": null,
   "metadata": {
    "collapsed": false
   },
   "outputs": [],
   "source": [
    "import os\n",
    "import tqdm\n",
    "import torch\n",
    "import numpy as np\n",
    "import torch.nn as nn\n",
    "import matplotlib.pyplot as plt\n",
    "import torch.utils.data as data\n",
    "import torchvision.transforms as transforms\n",
    "from torchvision import datasets\n",
    "from torchvision.utils import save_image, make_grid"
   ]
  },
  {
   "cell_type": "code",
   "execution_count": null,
   "metadata": {
    "collapsed": false
   },
   "outputs": [],
   "source": [
    "class Generator(nn.Module):\n",
    "    def __init__(self, latent_dim=100, image_size=784):\n",
    "        super(Generator, self).__init__()\n",
    "        self.model = nn.Sequential( \n",
    "            nn.Linear(latent_dim, 128),\n",
    "            nn.LeakyReLU(0.2),\n",
    "            nn.Linear(128, 256),\n",
    "            nn.BatchNorm1d(256),\n",
    "            nn.LeakyReLU(0.2),\n",
    "            nn.Linear(256, 512),\n",
    "            nn.BatchNorm1d(512),\n",
    "            nn.LeakyReLU(0.2),\n",
    "            nn.Linear(512, 1024),\n",
    "            nn.BatchNorm1d(1024),\n",
    "            nn.LeakyReLU(0.2),\n",
    "            nn.Linear(1024, image_size),\n",
    "            nn.Tanh()\n",
    "        )\n",
    "\n",
    "    def forward(self, x):\n",
    "        return self.model(x)"
   ]
  },
  {
   "cell_type": "code",
   "execution_count": null,
   "metadata": {
    "collapsed": false
   },
   "outputs": [],
   "source": [
    "class Discriminator(nn.Module):\n",
    "    def __init__(self, image_size=784):\n",
    "        super(Discriminator, self).__init__()\n",
    "        self.model = nn.Sequential(\n",
    "            nn.Linear(image_size, 512),  \n",
    "            nn.BatchNorm1d(512),\n",
    "            nn.LeakyReLU(0.2),\n",
    "            nn.Linear(512, 256), \n",
    "            nn.BatchNorm1d(256),\n",
    "            nn.LeakyReLU(0.2),\n",
    "            nn.Linear(256, 1),\n",
    "            nn.Sigmoid()\n",
    "        )\n",
    "\n",
    "    def forward(self, x):\n",
    "        return self.model(x).view(-1)"
   ]
  },
  {
   "cell_type": "code",
   "execution_count": null,
   "metadata": {
    "collapsed": false
   },
   "outputs": [],
   "source": [
    "cuda_id = 6\n",
    "device_name = \"cuda:{}\".format(cuda_id) if torch.cuda.is_available() else \"cpu\"\n",
    "device = torch.device(device_name)"
   ]
  },
  {
   "cell_type": "code",
   "execution_count": null,
   "metadata": {
    "collapsed": false
   },
   "outputs": [],
   "source": [
    "epochs = 200\n",
    "batch_size = 128\n",
    "lr = 0.0002\n",
    "latent_dim = 100"
   ]
  },
  {
   "cell_type": "code",
   "execution_count": null,
   "metadata": {
    "collapsed": false
   },
   "outputs": [],
   "source": [
    "dataloader = data.DataLoader(\n",
    "    datasets.MNIST('data', train=True, download=True,\n",
    "                   transform=transforms.Compose([\n",
    "                       transforms.ToTensor(),\n",
    "                       transforms.Normalize(0.5, 0.5)])),\n",
    "    batch_size=batch_size, shuffle=True)\n",
    "generator = Generator().to(device)\n",
    "discriminator = Discriminator().to(device)\n",
    "optimizer_g = torch.optim.Adam(generator.parameters(), lr=lr, betas=(0.5, 0.999))\n",
    "optimizer_d = torch.optim.Adam(discriminator.parameters(), lr=lr)\n",
    "criterion = nn.BCELoss()"
   ]
  },
  {
   "cell_type": "code",
   "execution_count": null,
   "metadata": {
    "collapsed": false
   },
   "outputs": [],
   "source": [
    "for epoch in tqdm.tqdm(range(epochs)):\n",
    "    img = None\n",
    "    error_d_avg = 0\n",
    "    error_g_avg = 0\n",
    "    for i, (img, _) in enumerate(dataloader):\n",
    "        img = img.view(-1, 784).to(device)\n",
    "        n_samples = img.shape[0]\n",
    "        true_labels = torch.ones(n_samples).to(device)\n",
    "        fake_labels = torch.zeros(n_samples).to(device)\n",
    "        true_output = discriminator(img)\n",
    "        error_d_real = criterion(true_output, true_labels)\n",
    "        noise = torch.randn(n_samples, latent_dim).to(device)\n",
    "        fake_img = generator(noise).detach()\n",
    "        fake_output = discriminator(fake_img)\n",
    "        error_d_fake = criterion(fake_output, fake_labels)\n",
    "        error_d = error_d_real + error_d_fake\n",
    "        optimizer_d.zero_grad()\n",
    "        error_d.backward()\n",
    "        optimizer_d.step()\n",
    "        noise = torch.randn(n_samples, latent_dim).to(device)\n",
    "        fake_img = generator(noise)\n",
    "        fake_output = discriminator(fake_img)\n",
    "        error_g = criterion(fake_output, true_labels)\n",
    "        optimizer_g.zero_grad()\n",
    "        error_g.backward()\n",
    "        optimizer_g.step()\n",
    "        error_d_avg += error_d.item()\n",
    "        error_g_avg += error_g.item()\n",
    "    print('Epoch [{}/{}], d_loss: {:.4f}, g_loss: {:.4f}'\n",
    "          .format(epoch + 1, epochs, error_d_avg / len(dataloader), error_g_avg / len(dataloader)))\n",
    "\n",
    "    if not os.path.exists('img'):\n",
    "        os.mkdir('img')\n",
    "    if not os.path.exists('checkpoints'):\n",
    "        os.mkdir('checkpoints')\n",
    "    if epoch == 0 or (epoch + 1) % 5 == 0:\n",
    "        noise = torch.randn(img.size(0), latent_dim).to(device)\n",
    "        with torch.no_grad():\n",
    "            fake = generator(noise)\n",
    "        img, fake = img.view(-1, 1, 28, 28), fake.view(-1, 1, 28, 28)\n",
    "        img_grid_real = make_grid(img[:64], normalize=True)\n",
    "        img_grid_fake = make_grid(fake[:64], normalize=True)\n",
    "        plt.subplot(1,2,1)\n",
    "        plt.imshow(np.transpose(img_grid_real.cpu(), (1, 2, 0)))\n",
    "        plt.title('real images')\n",
    "        plt.axis('off')\n",
    "        plt.subplot(1,2,2)\n",
    "        plt.imshow(np.transpose(img_grid_fake.cpu(), (1, 2, 0)))\n",
    "        plt.title('fake images')\n",
    "        plt.axis('off')\n",
    "        plt.show()"
   ]
  }
 ],
 "metadata": {
  "kernelspec": {
   "display_name": "snow",
   "language": "python",
   "name": "snow"
  },
  "language_info": {
   "codemirror_mode": {
    "name": "ipython",
    "version": 3
   },
   "file_extension": ".py",
   "mimetype": "text/x-python",
   "name": "python",
   "nbconvert_exporter": "python",
   "pygments_lexer": "ipython3",
   "version": "3.8.13"
  }
 },
 "nbformat": 4,
 "nbformat_minor": 0
}
